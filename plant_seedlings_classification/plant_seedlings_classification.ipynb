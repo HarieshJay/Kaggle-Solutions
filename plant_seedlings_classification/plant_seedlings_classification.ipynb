{
 "cells": [
  {
   "cell_type": "markdown",
   "metadata": {},
   "source": [
    "# Plant Seedlings Classification"
   ]
  },
  {
   "cell_type": "markdown",
   "metadata": {},
   "source": [
    "https://www.kaggle.com/c/plant-seedlings-classification/data\n",
    "\n",
    "Determine the species of a seedling from an image"
   ]
  },
  {
   "cell_type": "markdown",
   "metadata": {},
   "source": [
    "## 1. Load Data"
   ]
  },
  {
   "cell_type": "code",
   "execution_count": 1,
   "metadata": {},
   "outputs": [],
   "source": [
    "import tensorflow as tf\n",
    "from tensorflow import keras\n",
    "import pathlib\n",
    "import numpy as np\n",
    "import matplotlib.pyplot as plt\n",
    "import os\n",
    "import PIL.Image as Image\n",
    "AUTOTUNE = tf.data.experimental.AUTOTUNE"
   ]
  },
  {
   "cell_type": "code",
   "execution_count": 38,
   "metadata": {},
   "outputs": [],
   "source": [
    "tf.keras.backend.clear_session()"
   ]
  },
  {
   "cell_type": "code",
   "execution_count": 3,
   "metadata": {},
   "outputs": [],
   "source": [
    "data_dir = pathlib.Path('/notebooks/storage/kaggle-solutions/Kaggle-Solutions/data/plant-seedlings-classification')\n",
    "image_count = len(list(data_dir.glob('train/*/*.png')))"
   ]
  },
  {
   "cell_type": "code",
   "execution_count": 4,
   "metadata": {},
   "outputs": [],
   "source": [
    "BATCH_SIZE = 32\n",
    "IMG_HEIGHT = 224\n",
    "IMG_WIDTH = 224\n",
    "STEPS_PER_EPOCH = np.ceil(image_count/BATCH_SIZE)"
   ]
  },
  {
   "cell_type": "code",
   "execution_count": 5,
   "metadata": {},
   "outputs": [
    {
     "name": "stdout",
     "output_type": "stream",
     "text": [
      "Found 3803 images belonging to 12 classes.\n",
      "Found 947 images belonging to 12 classes.\n"
     ]
    }
   ],
   "source": [
    "image_generator = tf.keras.preprocessing.image.ImageDataGenerator(\n",
    "        rescale=1./255,\n",
    "        horizontal_flip=True,\n",
    "        vertical_flip=True,\n",
    "        rotation_range=360,\n",
    "        validation_split=0.2)\n",
    "train_dir = '/notebooks/storage/kaggle-solutions/Kaggle-Solutions/data/plant-seedlings-classification/train'\n",
    "classes = ['Black-grass', 'Charlock', 'Cleavers', 'Common Chickweed',\n",
    "       'Common wheat', 'Fat Hen', 'Loose Silky-bent', 'Maize',\n",
    "       'Scentless Mayweed', 'Shepherds Purse',\n",
    "       'Small-flowered Cranesbill', 'Sugar beet']\n",
    "\n",
    "train_data_gen = image_generator.flow_from_directory(directory=train_dir,\n",
    "                                                     batch_size=BATCH_SIZE,\n",
    "                                                     shuffle=True,\n",
    "                                                     target_size=(IMG_HEIGHT, IMG_WIDTH),\n",
    "                                                     classes = classes,\n",
    "                                                     subset=\"training\")\n",
    "\n",
    "valid_data_gen = image_generator.flow_from_directory(directory=train_dir,\n",
    "                                                     batch_size=BATCH_SIZE,\n",
    "                                                     shuffle=True,\n",
    "                                                     target_size=(IMG_HEIGHT, IMG_WIDTH),\n",
    "                                                     classes = classes,\n",
    "                                                     subset=\"validation\")"
   ]
  },
  {
   "cell_type": "markdown",
   "metadata": {},
   "source": [
    "## 2. Create Model"
   ]
  },
  {
   "cell_type": "markdown",
   "metadata": {},
   "source": [
    "### 2.1 Convolutional Neural Net"
   ]
  },
  {
   "cell_type": "code",
   "execution_count": 37,
   "metadata": {},
   "outputs": [
    {
     "name": "stdout",
     "output_type": "stream",
     "text": [
      "Model: \"sequential_3\"\n",
      "_________________________________________________________________\n",
      "Layer (type)                 Output Shape              Param #   \n",
      "=================================================================\n",
      "conv2d_12 (Conv2D)           (None, 222, 222, 64)      1792      \n",
      "_________________________________________________________________\n",
      "max_pooling2d_12 (MaxPooling (None, 111, 111, 64)      0         \n",
      "_________________________________________________________________\n",
      "batch_normalization_12 (Batc (None, 111, 111, 64)      256       \n",
      "_________________________________________________________________\n",
      "dropout_18 (Dropout)         (None, 111, 111, 64)      0         \n",
      "_________________________________________________________________\n",
      "conv2d_13 (Conv2D)           (None, 109, 109, 128)     73856     \n",
      "_________________________________________________________________\n",
      "max_pooling2d_13 (MaxPooling (None, 54, 54, 128)       0         \n",
      "_________________________________________________________________\n",
      "batch_normalization_13 (Batc (None, 54, 54, 128)       512       \n",
      "_________________________________________________________________\n",
      "dropout_19 (Dropout)         (None, 54, 54, 128)       0         \n",
      "_________________________________________________________________\n",
      "conv2d_14 (Conv2D)           (None, 52, 52, 256)       295168    \n",
      "_________________________________________________________________\n",
      "max_pooling2d_14 (MaxPooling (None, 26, 26, 256)       0         \n",
      "_________________________________________________________________\n",
      "batch_normalization_14 (Batc (None, 26, 26, 256)       1024      \n",
      "_________________________________________________________________\n",
      "dropout_20 (Dropout)         (None, 26, 26, 256)       0         \n",
      "_________________________________________________________________\n",
      "conv2d_15 (Conv2D)           (None, 24, 24, 512)       1180160   \n",
      "_________________________________________________________________\n",
      "max_pooling2d_15 (MaxPooling (None, 12, 12, 512)       0         \n",
      "_________________________________________________________________\n",
      "batch_normalization_15 (Batc (None, 12, 12, 512)       2048      \n",
      "_________________________________________________________________\n",
      "dropout_21 (Dropout)         (None, 12, 12, 512)       0         \n",
      "_________________________________________________________________\n",
      "flatten_3 (Flatten)          (None, 73728)             0         \n",
      "_________________________________________________________________\n",
      "dense_9 (Dense)              (None, 64)                4718656   \n",
      "_________________________________________________________________\n",
      "dropout_22 (Dropout)         (None, 64)                0         \n",
      "_________________________________________________________________\n",
      "dense_10 (Dense)             (None, 64)                4160      \n",
      "_________________________________________________________________\n",
      "dropout_23 (Dropout)         (None, 64)                0         \n",
      "_________________________________________________________________\n",
      "dense_11 (Dense)             (None, 12)                780       \n",
      "=================================================================\n",
      "Total params: 6,278,412\n",
      "Trainable params: 6,276,492\n",
      "Non-trainable params: 1,920\n",
      "_________________________________________________________________\n"
     ]
    }
   ],
   "source": [
    "model_v1 = keras.Sequential()\n",
    "\n",
    "model_v1.add(keras.layers.Conv2D(64, (3, 3), activation='relu', input_shape=(224, 224, 3)))\n",
    "model_v1.add(keras.layers.MaxPooling2D((2, 2)))\n",
    "model_v1.add(keras.layers.BatchNormalization())\n",
    "model_v1.add(keras.layers.Dropout(0.1))\n",
    "\n",
    "model_v1.add(keras.layers.Conv2D(128, (3, 3), activation='relu'))\n",
    "model_v1.add(keras.layers.MaxPooling2D((2, 2)))\n",
    "model_v1.add(keras.layers.BatchNormalization())\n",
    "model_v1.add(keras.layers.Dropout(0.1))\n",
    "\n",
    "model_v1.add(keras.layers.Conv2D(256, (3, 3), activation='relu'))\n",
    "model_v1.add(keras.layers.MaxPooling2D((2, 2)))\n",
    "model_v1.add(keras.layers.BatchNormalization())\n",
    "model_v1.add(keras.layers.Dropout(0.1))\n",
    "\n",
    "model_v1.add(keras.layers.Conv2D(512, (3, 3), activation='relu'))\n",
    "model_v1.add(keras.layers.MaxPooling2D((2, 2)))\n",
    "model_v1.add(keras.layers.BatchNormalization())\n",
    "model_v1.add(keras.layers.Dropout(0.1))\n",
    "\n",
    "model_v1.add(keras.layers.Flatten())\n",
    "\n",
    "model_v1.add(keras.layers.Dense(64, activation='relu', kernel_regularizer=keras.regularizers.l2(0.0001)))\n",
    "model_v1.add(keras.layers.Dropout(0.1))\n",
    "\n",
    "model_v1.add(keras.layers.Dense(64, activation='relu', kernel_regularizer=keras.regularizers.l2(0.0001)))\n",
    "model_v1.add(keras.layers.Dropout(0.1))\n",
    "\n",
    "model_v1.add(keras.layers.Dense(12, activation='softmax'))\n",
    "\n",
    "model_v1.summary()"
   ]
  },
  {
   "cell_type": "markdown",
   "metadata": {},
   "source": [
    "### 2.2 Resnet with pretrained weights on ImageNet"
   ]
  },
  {
   "cell_type": "code",
   "execution_count": null,
   "metadata": {},
   "outputs": [],
   "source": [
    "base_model_resnet = tf.keras.applications.resnet50.ResNet50(input_shape=(IMG_WIDTH, IMG_HEIGHT, 3),\n",
    "                                               include_top=False,\n",
    "                                               weights='imagenet')"
   ]
  },
  {
   "cell_type": "code",
   "execution_count": 10,
   "metadata": {},
   "outputs": [
    {
     "data": {
      "text/plain": [
       "175"
      ]
     },
     "execution_count": 10,
     "metadata": {},
     "output_type": "execute_result"
    }
   ],
   "source": [
    "base_model_resnet.trainable = True\n",
    "\n",
    "for layer in base_model_resnet.layers[:150]:\n",
    "  layer.trainable = False\n",
    "\n",
    "len(base_model_resnet.layers)\n",
    "\n",
    "# base_model_resnet.summary()"
   ]
  },
  {
   "cell_type": "code",
   "execution_count": 11,
   "metadata": {},
   "outputs": [],
   "source": [
    "global_average_layer = keras.layers.GlobalAveragePooling2D()\n",
    "classification_layer = keras.layers.Dense(12, activation='softmax', kernel_regularizer= keras.regularizers.l2(0.001))\n",
    "dropout_layer = keras.layers.Dropout(0.5)"
   ]
  },
  {
   "cell_type": "code",
   "execution_count": 12,
   "metadata": {},
   "outputs": [],
   "source": [
    "model_v2 = tf.keras.Sequential([\n",
    "  base_model_resnet,\n",
    "  global_average_layer,\n",
    "  dropout_layer,\n",
    "  classification_layer\n",
    "])"
   ]
  },
  {
   "cell_type": "code",
   "execution_count": 13,
   "metadata": {},
   "outputs": [
    {
     "name": "stdout",
     "output_type": "stream",
     "text": [
      "Model: \"sequential_1\"\n",
      "_________________________________________________________________\n",
      "Layer (type)                 Output Shape              Param #   \n",
      "=================================================================\n",
      "resnet50 (Model)             (None, 7, 7, 2048)        23587712  \n",
      "_________________________________________________________________\n",
      "global_average_pooling2d_1 ( (None, 2048)              0         \n",
      "_________________________________________________________________\n",
      "dropout_1 (Dropout)          (None, 2048)              0         \n",
      "_________________________________________________________________\n",
      "dense_1 (Dense)              (None, 12)                24588     \n",
      "=================================================================\n",
      "Total params: 23,612,300\n",
      "Trainable params: 23,559,180\n",
      "Non-trainable params: 53,120\n",
      "_________________________________________________________________\n"
     ]
    }
   ],
   "source": [
    "model_v2.summary()"
   ]
  },
  {
   "cell_type": "markdown",
   "metadata": {},
   "source": [
    "## 3. Train Model"
   ]
  },
  {
   "cell_type": "code",
   "execution_count": null,
   "metadata": {},
   "outputs": [],
   "source": [
    "model_v1.load_weights('./checkpoints/checkpoint_m1_1')"
   ]
  },
  {
   "cell_type": "code",
   "execution_count": 7,
   "metadata": {},
   "outputs": [],
   "source": [
    "lr_schedule = tf.keras.optimizers.schedules.InverseTimeDecay(\n",
    "  0.001,\n",
    "  decay_steps=STEPS_PER_EPOCH*1000,\n",
    "  decay_rate=1,\n",
    "  staircase=False)\n",
    "\n",
    "def get_optimizer():\n",
    "  return tf.keras.optimizers.Adam(lr_schedule)"
   ]
  },
  {
   "cell_type": "code",
   "execution_count": 39,
   "metadata": {},
   "outputs": [],
   "source": [
    "model_v1.compile(optimizer=tf.keras.optimizers.Adam(0.001),\n",
    "              loss='categorical_crossentropy',\n",
    "              metrics=['accuracy'])"
   ]
  },
  {
   "cell_type": "code",
   "execution_count": 40,
   "metadata": {},
   "outputs": [
    {
     "name": "stdout",
     "output_type": "stream",
     "text": [
      "Train for 119 steps, validate for 30 steps\n",
      "Epoch 1/30\n",
      "119/119 [==============================] - 133s 1s/step - loss: 3.9872 - accuracy: 0.2882 - val_loss: 13.5777 - val_accuracy: 0.0507\n",
      "Epoch 2/30\n",
      "119/119 [==============================] - 129s 1s/step - loss: 2.5504 - accuracy: 0.3747 - val_loss: 16.0254 - val_accuracy: 0.1288\n",
      "Epoch 3/30\n",
      "119/119 [==============================] - 128s 1s/step - loss: 2.2834 - accuracy: 0.4326 - val_loss: 3.2582 - val_accuracy: 0.2154\n",
      "Epoch 4/30\n",
      "119/119 [==============================] - 126s 1s/step - loss: 1.9733 - accuracy: 0.4846 - val_loss: 3.7578 - val_accuracy: 0.3442\n",
      "Epoch 5/30\n",
      "119/119 [==============================] - 127s 1s/step - loss: 1.7445 - accuracy: 0.5080 - val_loss: 2.3100 - val_accuracy: 0.4393\n",
      "Epoch 6/30\n",
      "119/119 [==============================] - 130s 1s/step - loss: 1.5548 - accuracy: 0.5475 - val_loss: 1.5632 - val_accuracy: 0.5787\n",
      "Epoch 7/30\n",
      "119/119 [==============================] - 130s 1s/step - loss: 1.4134 - accuracy: 0.5869 - val_loss: 1.2210 - val_accuracy: 0.6769\n",
      "Epoch 8/30\n",
      "119/119 [==============================] - 127s 1s/step - loss: 1.2862 - accuracy: 0.6161 - val_loss: 1.2914 - val_accuracy: 0.6716\n",
      "Epoch 9/30\n",
      "119/119 [==============================] - 126s 1s/step - loss: 1.1966 - accuracy: 0.6595 - val_loss: 1.2013 - val_accuracy: 0.6737\n",
      "Epoch 10/30\n",
      "119/119 [==============================] - 126s 1s/step - loss: 1.1054 - accuracy: 0.6797 - val_loss: 1.5547 - val_accuracy: 0.5681\n",
      "Epoch 11/30\n",
      "119/119 [==============================] - 126s 1s/step - loss: 1.0182 - accuracy: 0.7055 - val_loss: 1.0763 - val_accuracy: 0.7054\n",
      "Epoch 12/30\n",
      "119/119 [==============================] - 126s 1s/step - loss: 0.9863 - accuracy: 0.7121 - val_loss: 1.2808 - val_accuracy: 0.6177\n",
      "Epoch 13/30\n",
      "119/119 [==============================] - 126s 1s/step - loss: 0.9462 - accuracy: 0.7289 - val_loss: 3.7429 - val_accuracy: 0.3263\n",
      "Epoch 14/30\n",
      "119/119 [==============================] - 127s 1s/step - loss: 0.9069 - accuracy: 0.7439 - val_loss: 0.8788 - val_accuracy: 0.7730\n",
      "Epoch 15/30\n",
      "119/119 [==============================] - 126s 1s/step - loss: 0.8502 - accuracy: 0.7620 - val_loss: 1.4152 - val_accuracy: 0.6336\n",
      "Epoch 16/30\n",
      "119/119 [==============================] - 126s 1s/step - loss: 0.8461 - accuracy: 0.7602 - val_loss: 1.0288 - val_accuracy: 0.7328\n",
      "Epoch 17/30\n",
      "119/119 [==============================] - 126s 1s/step - loss: 0.7668 - accuracy: 0.7818 - val_loss: 0.8670 - val_accuracy: 0.7561\n",
      "Epoch 18/30\n",
      "119/119 [==============================] - 126s 1s/step - loss: 0.7546 - accuracy: 0.7978 - val_loss: 1.3319 - val_accuracy: 0.6906\n",
      "Epoch 19/30\n",
      "119/119 [==============================] - 126s 1s/step - loss: 0.6898 - accuracy: 0.8120 - val_loss: 2.0798 - val_accuracy: 0.5766\n",
      "Epoch 20/30\n",
      "119/119 [==============================] - 127s 1s/step - loss: 0.7265 - accuracy: 0.8052 - val_loss: 1.8357 - val_accuracy: 0.5713\n",
      "Epoch 21/30\n",
      "119/119 [==============================] - 126s 1s/step - loss: 0.6921 - accuracy: 0.8167 - val_loss: 0.8480 - val_accuracy: 0.8025\n",
      "Epoch 22/30\n",
      "119/119 [==============================] - 127s 1s/step - loss: 0.6073 - accuracy: 0.8451 - val_loss: 1.2029 - val_accuracy: 0.7159\n",
      "Epoch 23/30\n",
      "119/119 [==============================] - 128s 1s/step - loss: 0.6338 - accuracy: 0.8349 - val_loss: 0.6791 - val_accuracy: 0.8458\n",
      "Epoch 24/30\n",
      "119/119 [==============================] - 126s 1s/step - loss: 0.5835 - accuracy: 0.8496 - val_loss: 1.0904 - val_accuracy: 0.7445\n",
      "Epoch 25/30\n",
      "119/119 [==============================] - 127s 1s/step - loss: 0.6459 - accuracy: 0.8407 - val_loss: 0.7975 - val_accuracy: 0.8215\n",
      "Epoch 26/30\n",
      "119/119 [==============================] - 126s 1s/step - loss: 0.6060 - accuracy: 0.8443 - val_loss: 1.0015 - val_accuracy: 0.7698\n",
      "Epoch 27/30\n",
      "119/119 [==============================] - 126s 1s/step - loss: 0.6180 - accuracy: 0.8464 - val_loss: 0.8931 - val_accuracy: 0.7962\n",
      "Epoch 28/30\n",
      "119/119 [==============================] - 127s 1s/step - loss: 0.5289 - accuracy: 0.8696 - val_loss: 0.9194 - val_accuracy: 0.7888\n",
      "Epoch 29/30\n",
      "119/119 [==============================] - 127s 1s/step - loss: 0.5582 - accuracy: 0.8591 - val_loss: 0.7775 - val_accuracy: 0.8300\n",
      "Epoch 30/30\n",
      "119/119 [==============================] - 127s 1s/step - loss: 0.5638 - accuracy: 0.8643 - val_loss: 0.8440 - val_accuracy: 0.8004\n"
     ]
    }
   ],
   "source": [
    "model_v1_history = model_v1.fit(train_data_gen, epochs=30, steps_per_epoch=None, validation_data=valid_data_gen)"
   ]
  },
  {
   "cell_type": "code",
   "execution_count": 44,
   "metadata": {},
   "outputs": [],
   "source": [
    "model_v1.save_weights('./checkpoints/checkpoint_m1_1')"
   ]
  },
  {
   "cell_type": "markdown",
   "metadata": {},
   "source": [
    "### 3.2 Training with ResNet50"
   ]
  },
  {
   "cell_type": "markdown",
   "metadata": {},
   "source": [
    "Is not feasible to use RestNet50 based on the lack of data. The model greatly overfit."
   ]
  },
  {
   "cell_type": "code",
   "execution_count": 15,
   "metadata": {},
   "outputs": [],
   "source": [
    "model_v2.compile(optimizer=get_optimizer(),\n",
    "              loss='categorical_crossentropy',\n",
    "              metrics=['accuracy'])"
   ]
  },
  {
   "cell_type": "code",
   "execution_count": null,
   "metadata": {},
   "outputs": [],
   "source": [
    "model_v2_history = model_v2.fit(train_data_gen, epochs=10, steps_per_epoch=None, validation_data=valid_data_gen)"
   ]
  },
  {
   "cell_type": "markdown",
   "metadata": {},
   "source": [
    "## 4. Evaluate on Test Data"
   ]
  },
  {
   "cell_type": "markdown",
   "metadata": {},
   "source": [
    "### 4.1 Predicting with Basic Convolutional Neural Net"
   ]
  },
  {
   "cell_type": "markdown",
   "metadata": {},
   "source": [
    "Received score of 0.78085 on Kaggle competition data."
   ]
  },
  {
   "cell_type": "code",
   "execution_count": 45,
   "metadata": {},
   "outputs": [
    {
     "name": "stdout",
     "output_type": "stream",
     "text": [
      "Found 794 images belonging to 1 classes.\n"
     ]
    }
   ],
   "source": [
    "test_dir = '/notebooks/storage/kaggle-solutions/Kaggle-Solutions/data/plant-seedlings-classification/'\n",
    "image_generator = tf.keras.preprocessing.image.ImageDataGenerator(rescale=1./255)\n",
    "test_data_gen = image_generator.flow_from_directory(directory=test_dir,\n",
    "                                                     batch_size=BATCH_SIZE,\n",
    "                                                     shuffle=False,\n",
    "                                                     target_size=(IMG_HEIGHT, IMG_WIDTH),\n",
    "                                                     classes = ['test'])"
   ]
  },
  {
   "cell_type": "code",
   "execution_count": 46,
   "metadata": {},
   "outputs": [],
   "source": [
    "pred = model_v1.predict(\n",
    "    test_data_gen, batch_size=None, verbose=0, steps=None, callbacks=None, max_queue_size=10,\n",
    "    workers=1, use_multiprocessing=False,\n",
    ")"
   ]
  },
  {
   "cell_type": "code",
   "execution_count": 47,
   "metadata": {},
   "outputs": [],
   "source": [
    "y = np.argmax(pred, axis=1)"
   ]
  },
  {
   "cell_type": "code",
   "execution_count": 48,
   "metadata": {},
   "outputs": [],
   "source": [
    "predicted_classes = [classes[i] for i in y]\n",
    "files = [path[5:] for path in test_data_gen.filenames]"
   ]
  },
  {
   "cell_type": "code",
   "execution_count": 49,
   "metadata": {},
   "outputs": [],
   "source": [
    "subm = np.stack([files,predicted_classes], axis=1)\n",
    "np.savetxt('submission.csv', subm, fmt='%s,%s', header='file,species', comments='')"
   ]
  },
  {
   "cell_type": "markdown",
   "metadata": {},
   "source": [
    "## 5. Analysis"
   ]
  },
  {
   "cell_type": "markdown",
   "metadata": {},
   "source": [
    "### 5.1 Analysis of Basic Convolutional Neural Net"
   ]
  },
  {
   "cell_type": "code",
   "execution_count": 50,
   "metadata": {},
   "outputs": [
    {
     "data": {
      "image/png": "[encoded data removed]",
      "text/plain": [
       "<Figure size 432x288 with 1 Axes>"
      ]
     },
     "metadata": {
      "needs_background": "light"
     },
     "output_type": "display_data"
    },
    {
     "data": {
      "image/png": "[encoded data removed]",
      "text/plain": [
       "<Figure size 432x288 with 1 Axes>"
      ]
     },
     "metadata": {
      "needs_background": "light"
     },
     "output_type": "display_data"
    }
   ],
   "source": [
    "epochs = range(0, len(model_v1_history.history['loss']))\n",
    "training_loss = model_v1_history.history['loss']\n",
    "validation_loss = model_v1_history.history['val_loss']\n",
    "\n",
    "# training loss \n",
    "plt.plot(epochs, training_loss)\n",
    "plt.xlabel(\"Number of epoch\")\n",
    "plt.ylabel(\"Training Loss\")\n",
    "plt.title(\"Training Loss\")\n",
    "plt.show()\n",
    "\n",
    "# validation loss\n",
    "plt.plot(epochs , validation_loss)\n",
    "plt.xlabel(\"Number of epoch\")\n",
    "plt.ylabel(\"Validation Loss\")\n",
    "plt.title(\"Validation Loss\")\n",
    "plt.show()"
   ]
  }
 ],
 "metadata": {
  "kernelspec": {
   "display_name": "Python 3",
   "language": "python",
   "name": "python3"
  },
  "language_info": {
   "codemirror_mode": {
    "name": "ipython",
    "version": 3
   },
   "file_extension": ".py",
   "mimetype": "text/x-python",
   "name": "python",
   "nbconvert_exporter": "python",
   "pygments_lexer": "ipython3",
   "version": "3.6.8"
  }
 },
 "nbformat": 4,
 "nbformat_minor": 4
}
