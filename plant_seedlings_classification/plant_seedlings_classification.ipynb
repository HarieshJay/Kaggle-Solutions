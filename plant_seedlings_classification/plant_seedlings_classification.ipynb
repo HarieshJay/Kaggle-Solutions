{
 "cells": [
  {
   "cell_type": "markdown",
   "metadata": {},
   "source": [
    "# Plant Seedlings Classification"
   ]
  },
  {
   "cell_type": "markdown",
   "metadata": {},
   "source": [
    "https://www.kaggle.com/c/plant-seedlings-classification/data\n",
    "\n",
    "Determine the species of a seedling from an image"
   ]
  },
  {
   "cell_type": "markdown",
   "metadata": {},
   "source": [
    "## 1. Load Data"
   ]
  },
  {
   "cell_type": "code",
   "execution_count": 1,
   "metadata": {},
   "outputs": [],
   "source": [
    "import tensorflow as tf\n",
    "from tensorflow import keras\n",
    "import pathlib\n",
    "import numpy as np\n",
    "import matplotlib.pyplot as plt\n",
    "import os\n",
    "import PIL.Image as Image\n",
    "AUTOTUNE = tf.data.experimental.AUTOTUNE"
   ]
  },
  {
   "cell_type": "code",
   "execution_count": 2,
   "metadata": {},
   "outputs": [],
   "source": [
    "data_dir = pathlib.Path('/notebooks/storage/kaggle-solutions/Kaggle-Solutions/data/plant-seedlings-classification')\n",
    "image_count = len(list(data_dir.glob('train/*/*.png')))"
   ]
  },
  {
   "cell_type": "code",
   "execution_count": 3,
   "metadata": {},
   "outputs": [],
   "source": [
    "BATCH_SIZE = 32\n",
    "IMG_HEIGHT = 224\n",
    "IMG_WIDTH = 224\n",
    "STEPS_PER_EPOCH = np.ceil(image_count/BATCH_SIZE)"
   ]
  },
  {
   "cell_type": "code",
   "execution_count": 4,
   "metadata": {},
   "outputs": [
    {
     "name": "stdout",
     "output_type": "stream",
     "text": [
      "Found 3803 images belonging to 12 classes.\n",
      "Found 947 images belonging to 12 classes.\n"
     ]
    }
   ],
   "source": [
    "image_generator = tf.keras.preprocessing.image.ImageDataGenerator(rescale=1./255, validation_split=0.2)\n",
    "train_dir = '/notebooks/storage/kaggle-solutions/Kaggle-Solutions/data/plant-seedlings-classification/train'\n",
    "classes = ['Black-grass', 'Charlock', 'Cleavers', 'Common Chickweed',\n",
    "       'Common wheat', 'Fat Hen', 'Loose Silky-bent', 'Maize',\n",
    "       'Scentless Mayweed', 'Shepherds Purse',\n",
    "       'Small-flowered Cranesbill', 'Sugar beet']\n",
    "\n",
    "train_data_gen = image_generator.flow_from_directory(directory=train_dir,\n",
    "                                                     batch_size=BATCH_SIZE,\n",
    "                                                     shuffle=True,\n",
    "                                                     target_size=(IMG_HEIGHT, IMG_WIDTH),\n",
    "                                                     classes = classes,\n",
    "                                                     subset=\"training\")\n",
    "\n",
    "valid_data_gen = image_generator.flow_from_directory(directory=train_dir,\n",
    "                                                     batch_size=BATCH_SIZE,\n",
    "                                                     shuffle=True,\n",
    "                                                     target_size=(IMG_HEIGHT, IMG_WIDTH),\n",
    "                                                     classes = classes,\n",
    "                                                     subset=\"validation\")"
   ]
  },
  {
   "cell_type": "markdown",
   "metadata": {},
   "source": [
    "## 2. Create Model"
   ]
  },
  {
   "cell_type": "markdown",
   "metadata": {},
   "source": [
    "### 2.1 Basic Convolutional Neural Net"
   ]
  },
  {
   "cell_type": "code",
   "execution_count": 17,
   "metadata": {},
   "outputs": [
    {
     "name": "stdout",
     "output_type": "stream",
     "text": [
      "Model: \"sequential_2\"\n",
      "_________________________________________________________________\n",
      "Layer (type)                 Output Shape              Param #   \n",
      "=================================================================\n",
      "conv2d (Conv2D)              (None, 222, 222, 32)      896       \n",
      "_________________________________________________________________\n",
      "max_pooling2d (MaxPooling2D) (None, 111, 111, 32)      0         \n",
      "_________________________________________________________________\n",
      "conv2d_1 (Conv2D)            (None, 109, 109, 64)      18496     \n",
      "_________________________________________________________________\n",
      "max_pooling2d_1 (MaxPooling2 (None, 54, 54, 64)        0         \n",
      "_________________________________________________________________\n",
      "conv2d_2 (Conv2D)            (None, 52, 52, 64)        36928     \n",
      "_________________________________________________________________\n",
      "flatten (Flatten)            (None, 173056)            0         \n",
      "_________________________________________________________________\n",
      "dense_2 (Dense)              (None, 64)                11075648  \n",
      "_________________________________________________________________\n",
      "dense_3 (Dense)              (None, 12)                780       \n",
      "=================================================================\n",
      "Total params: 11,132,748\n",
      "Trainable params: 11,132,748\n",
      "Non-trainable params: 0\n",
      "_________________________________________________________________\n"
     ]
    }
   ],
   "source": [
    "model_v1 = keras.Sequential()\n",
    "model_v1.add(keras.layers.Conv2D(32, (3, 3), activation='relu', input_shape=(224, 224, 3)))\n",
    "model_v1.add(keras.layers.MaxPooling2D((2, 2)))\n",
    "model_v1.add(keras.layers.Conv2D(64, (3, 3), activation='relu'))\n",
    "model_v1.add(keras.layers.MaxPooling2D((2, 2)))\n",
    "model_v1.add(keras.layers.Conv2D(64, (3, 3), activation='relu'))\n",
    "model_v1.add(keras.layers.Flatten())\n",
    "model_v1.add(keras.layers.Dense(64, activation='relu'))\n",
    "model_v1.add(keras.layers.Dense(12, activation='softmax'))\n",
    "model_v1.summary()"
   ]
  },
  {
   "cell_type": "markdown",
   "metadata": {},
   "source": [
    "### 2.2 Resnet with pretrained weights on ImageNet"
   ]
  },
  {
   "cell_type": "code",
   "execution_count": 5,
   "metadata": {},
   "outputs": [],
   "source": [
    "base_model_resnet = tf.keras.applications.resnet50.ResNet50(input_shape=(IMG_WIDTH, IMG_HEIGHT, 3),\n",
    "                                               include_top=False,\n",
    "                                               weights='imagenet')"
   ]
  },
  {
   "cell_type": "code",
   "execution_count": 10,
   "metadata": {},
   "outputs": [
    {
     "data": {
      "text/plain": [
       "175"
      ]
     },
     "execution_count": 10,
     "metadata": {},
     "output_type": "execute_result"
    }
   ],
   "source": [
    "base_model_resnet.trainable = True\n",
    "\n",
    "for layer in base_model_resnet.layers[:150]:\n",
    "  layer.trainable = False\n",
    "\n",
    "len(base_model_resnet.layers)\n",
    "\n",
    "# base_model_resnet.summary()"
   ]
  },
  {
   "cell_type": "code",
   "execution_count": 11,
   "metadata": {},
   "outputs": [],
   "source": [
    "global_average_layer = keras.layers.GlobalAveragePooling2D()\n",
    "classification_layer = keras.layers.Dense(12, activation='softmax', kernel_regularizer= keras.regularizers.l2(0.001))\n",
    "dropout_layer = keras.layers.Dropout(0.5)"
   ]
  },
  {
   "cell_type": "code",
   "execution_count": 12,
   "metadata": {},
   "outputs": [],
   "source": [
    "model_v2 = tf.keras.Sequential([\n",
    "  base_model_resnet,\n",
    "  global_average_layer,\n",
    "  dropout_layer,\n",
    "  classification_layer\n",
    "])"
   ]
  },
  {
   "cell_type": "code",
   "execution_count": 13,
   "metadata": {},
   "outputs": [
    {
     "name": "stdout",
     "output_type": "stream",
     "text": [
      "Model: \"sequential_1\"\n",
      "_________________________________________________________________\n",
      "Layer (type)                 Output Shape              Param #   \n",
      "=================================================================\n",
      "resnet50 (Model)             (None, 7, 7, 2048)        23587712  \n",
      "_________________________________________________________________\n",
      "global_average_pooling2d_1 ( (None, 2048)              0         \n",
      "_________________________________________________________________\n",
      "dropout_1 (Dropout)          (None, 2048)              0         \n",
      "_________________________________________________________________\n",
      "dense_1 (Dense)              (None, 12)                24588     \n",
      "=================================================================\n",
      "Total params: 23,612,300\n",
      "Trainable params: 23,559,180\n",
      "Non-trainable params: 53,120\n",
      "_________________________________________________________________\n"
     ]
    }
   ],
   "source": [
    "model_v2.summary()"
   ]
  },
  {
   "cell_type": "markdown",
   "metadata": {},
   "source": [
    "## 3. Train Model"
   ]
  },
  {
   "cell_type": "markdown",
   "metadata": {},
   "source": [
    "### 3.1 Training with Basic Convolutional Neural Net\n",
    "Not enough flexibility in the model. Training loss decreases while Validation loss stays constant."
   ]
  },
  {
   "cell_type": "code",
   "execution_count": 18,
   "metadata": {},
   "outputs": [],
   "source": [
    "model_v1.compile(optimizer='adam',\n",
    "              loss='categorical_crossentropy',\n",
    "              metrics=['accuracy'])"
   ]
  },
  {
   "cell_type": "code",
   "execution_count": 19,
   "metadata": {},
   "outputs": [
    {
     "name": "stdout",
     "output_type": "stream",
     "text": [
      "Train for 119 steps, validate for 30 steps\n",
      "Epoch 1/10\n",
      "119/119 [==============================] - 59s 499ms/step - loss: 2.3846 - accuracy: 0.1962 - val_loss: 1.9261 - val_accuracy: 0.3537\n",
      "Epoch 2/10\n",
      "119/119 [==============================] - 57s 478ms/step - loss: 1.4978 - accuracy: 0.4801 - val_loss: 1.3678 - val_accuracy: 0.5195\n",
      "Epoch 3/10\n",
      "119/119 [==============================] - 58s 488ms/step - loss: 1.1077 - accuracy: 0.6235 - val_loss: 1.0814 - val_accuracy: 0.6241\n",
      "Epoch 4/10\n",
      "119/119 [==============================] - 58s 485ms/step - loss: 0.9255 - accuracy: 0.6884 - val_loss: 0.9848 - val_accuracy: 0.6758\n",
      "Epoch 5/10\n",
      "119/119 [==============================] - 57s 476ms/step - loss: 0.7631 - accuracy: 0.7476 - val_loss: 1.0419 - val_accuracy: 0.6631\n",
      "Epoch 6/10\n",
      "119/119 [==============================] - 57s 477ms/step - loss: 0.6480 - accuracy: 0.7704 - val_loss: 0.9938 - val_accuracy: 0.6853\n",
      "Epoch 7/10\n",
      "119/119 [==============================] - 57s 479ms/step - loss: 0.5117 - accuracy: 0.8278 - val_loss: 1.0250 - val_accuracy: 0.6990\n",
      "Epoch 8/10\n",
      "119/119 [==============================] - 57s 478ms/step - loss: 0.4065 - accuracy: 0.8680 - val_loss: 1.1198 - val_accuracy: 0.6864\n",
      "Epoch 9/10\n",
      "119/119 [==============================] - 57s 476ms/step - loss: 0.3447 - accuracy: 0.8846 - val_loss: 1.1806 - val_accuracy: 0.6695\n",
      "Epoch 10/10\n",
      "119/119 [==============================] - 57s 482ms/step - loss: 0.2660 - accuracy: 0.9159 - val_loss: 1.1934 - val_accuracy: 0.6800\n"
     ]
    }
   ],
   "source": [
    "model_v1_history = model_v1.fit(train_data_gen, epochs=10, steps_per_epoch=None, validation_data=valid_data_gen)"
   ]
  },
  {
   "cell_type": "markdown",
   "metadata": {},
   "source": [
    "### 3.2 Training with ResNet50"
   ]
  },
  {
   "cell_type": "markdown",
   "metadata": {},
   "source": [
    "Is not feasible to use RestNet50 based on the lack of data. The model greatly overfit."
   ]
  },
  {
   "cell_type": "code",
   "execution_count": 14,
   "metadata": {},
   "outputs": [],
   "source": [
    "lr_schedule = tf.keras.optimizers.schedules.InverseTimeDecay(\n",
    "  0.001,\n",
    "  decay_steps=STEPS_PER_EPOCH*1000,\n",
    "  decay_rate=1,\n",
    "  staircase=False)\n",
    "\n",
    "def get_optimizer():\n",
    "  return tf.keras.optimizers.Adam(lr_schedule)"
   ]
  },
  {
   "cell_type": "code",
   "execution_count": 15,
   "metadata": {},
   "outputs": [],
   "source": [
    "model_v2.compile(optimizer=get_optimizer(),\n",
    "              loss='categorical_crossentropy',\n",
    "              metrics=['accuracy'])"
   ]
  },
  {
   "cell_type": "code",
   "execution_count": null,
   "metadata": {},
   "outputs": [],
   "source": [
    "model_v2_history = model_v2.fit(train_data_gen, epochs=10, steps_per_epoch=None, validation_data=valid_data_gen)"
   ]
  },
  {
   "cell_type": "markdown",
   "metadata": {},
   "source": [
    "## 4. Evaluate on Test Data"
   ]
  },
  {
   "cell_type": "markdown",
   "metadata": {},
   "source": [
    "### 4.1 Predicting with Basic Convolutional Neural Net"
   ]
  },
  {
   "cell_type": "markdown",
   "metadata": {},
   "source": [
    "Received score of 0.70654 on Kaggle competition data."
   ]
  },
  {
   "cell_type": "code",
   "execution_count": 21,
   "metadata": {},
   "outputs": [
    {
     "name": "stdout",
     "output_type": "stream",
     "text": [
      "Found 794 images belonging to 1 classes.\n"
     ]
    }
   ],
   "source": [
    "test_dir = '/notebooks/storage/kaggle-solutions/Kaggle-Solutions/data/plant-seedlings-classification/'\n",
    "image_generator = tf.keras.preprocessing.image.ImageDataGenerator(rescale=1./255)\n",
    "test_data_gen = image_generator.flow_from_directory(directory=test_dir,\n",
    "                                                     batch_size=BATCH_SIZE,\n",
    "                                                     shuffle=False,\n",
    "                                                     target_size=(IMG_HEIGHT, IMG_WIDTH),\n",
    "                                                     classes = ['test'])"
   ]
  },
  {
   "cell_type": "code",
   "execution_count": 22,
   "metadata": {},
   "outputs": [],
   "source": [
    "pred = model_v1.predict(\n",
    "    test_data_gen, batch_size=None, verbose=0, steps=None, callbacks=None, max_queue_size=10,\n",
    "    workers=1, use_multiprocessing=False,\n",
    ")"
   ]
  },
  {
   "cell_type": "code",
   "execution_count": 23,
   "metadata": {},
   "outputs": [],
   "source": [
    "y = np.argmax(pred, axis=1)"
   ]
  },
  {
   "cell_type": "code",
   "execution_count": 24,
   "metadata": {},
   "outputs": [],
   "source": [
    "predicted_classes = [classes[i] for i in y]\n",
    "files = [path[5:] for path in test_data_gen.filenames]"
   ]
  },
  {
   "cell_type": "code",
   "execution_count": 25,
   "metadata": {},
   "outputs": [],
   "source": [
    "subm = np.stack([files,predicted_classes], axis=1)\n",
    "np.savetxt('submission.csv', subm, fmt='%s,%s', header='file,species', comments='')"
   ]
  },
  {
   "cell_type": "markdown",
   "metadata": {},
   "source": [
    "## 5. Analysis"
   ]
  },
  {
   "cell_type": "markdown",
   "metadata": {},
   "source": [
    "### 5.1 Analysis of Basic Convolutional Neural Net"
   ]
  },
  {
   "cell_type": "code",
   "execution_count": 26,
   "metadata": {},
   "outputs": [
    {
     "data": {
      "image/png": "[encoded data removed]",
      "text/plain": [
       "<Figure size 432x288 with 1 Axes>"
      ]
     },
     "metadata": {
      "needs_background": "light"
     },
     "output_type": "display_data"
    },
    {
     "data": {
      "image/png": "[encoded data removed]",
      "text/plain": [
       "<Figure size 432x288 with 1 Axes>"
      ]
     },
     "metadata": {
      "needs_background": "light"
     },
     "output_type": "display_data"
    }
   ],
   "source": [
    "epochs = range(0, len(model_v1_history.history['loss']))\n",
    "training_loss = model_v1_history.history['loss']\n",
    "validation_loss = model_v1_history.history['val_loss']\n",
    "\n",
    "# training loss \n",
    "plt.plot(epochs, training_loss)\n",
    "plt.xlabel(\"Number of epoch\")\n",
    "plt.ylabel(\"Training Loss\")\n",
    "plt.title(\"Training Loss\")\n",
    "plt.show()\n",
    "\n",
    "# validation loss\n",
    "plt.plot(epochs , validation_loss)\n",
    "plt.xlabel(\"Number of epoch\")\n",
    "plt.ylabel(\"Validation Loss\")\n",
    "plt.title(\"Validation Loss\")\n",
    "plt.show()"
   ]
  }
 ],
 "metadata": {
  "kernelspec": {
   "display_name": "Python 3",
   "language": "python",
   "name": "python3"
  },
  "language_info": {
   "codemirror_mode": {
    "name": "ipython",
    "version": 3
   },
   "file_extension": ".py",
   "mimetype": "text/x-python",
   "name": "python",
   "nbconvert_exporter": "python",
   "pygments_lexer": "ipython3",
   "version": "3.6.8"
  }
 },
 "nbformat": 4,
 "nbformat_minor": 4
}
