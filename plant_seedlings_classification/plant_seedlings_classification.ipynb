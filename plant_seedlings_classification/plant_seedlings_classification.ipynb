{
 "cells": [
  {
   "cell_type": "markdown",
   "metadata": {},
   "source": [
    "# Plant Seedlings Classification"
   ]
  },
  {
   "cell_type": "markdown",
   "metadata": {},
   "source": [
    "https://www.kaggle.com/c/plant-seedlings-classification/data\n",
    "\n",
    "Determine the species of a seedling from an image"
   ]
  },
  {
   "cell_type": "markdown",
   "metadata": {},
   "source": [
    "## Load Data"
   ]
  },
  {
   "cell_type": "code",
   "execution_count": 1,
   "metadata": {},
   "outputs": [],
   "source": [
    "import tensorflow as tf\n",
    "from tensorflow import keras\n",
    "import pathlib\n",
    "import numpy as np\n",
    "import matplotlib.pyplot as plt\n",
    "import os\n",
    "import PIL.Image as Image\n",
    "AUTOTUNE = tf.data.experimental.AUTOTUNE"
   ]
  },
  {
   "cell_type": "code",
   "execution_count": 2,
   "metadata": {},
   "outputs": [
    {
     "data": {
      "text/plain": [
       "array(['Black-grass', 'Charlock', 'Cleavers', 'Common Chickweed',\n",
       "       'Common wheat', 'Fat Hen', 'Loose Silky-bent', 'Maize',\n",
       "       'Scentless Mayweed', 'Shepherds Purse',\n",
       "       'Small-flowered Cranesbill', 'Sugar beet'], dtype='<U25')"
      ]
     },
     "execution_count": 2,
     "metadata": {},
     "output_type": "execute_result"
    }
   ],
   "source": [
    "data_dir = pathlib.Path('/notebooks/storage/kaggle-solutions/Kaggle-Solutions/data/plant-seedlings-classification')\n",
    "CLASS_NAMES = np.sort(np.array([item.name for item in data_dir.glob('train/*')]), axis=0)\n",
    "image_count = len(list(data_dir.glob('train/*/*.png')))\n",
    "CLASS_NAMES"
   ]
  },
  {
   "cell_type": "code",
   "execution_count": 3,
   "metadata": {},
   "outputs": [],
   "source": [
    "BATCH_SIZE = 32\n",
    "IMG_HEIGHT = 224\n",
    "IMG_WIDTH = 224\n",
    "STEPS_PER_EPOCH = np.ceil(image_count/BATCH_SIZE)"
   ]
  },
  {
   "cell_type": "code",
   "execution_count": 4,
   "metadata": {},
   "outputs": [
    {
     "name": "stdout",
     "output_type": "stream",
     "text": [
      "Found 4750 images belonging to 12 classes.\n"
     ]
    }
   ],
   "source": [
    "image_generator = tf.keras.preprocessing.image.ImageDataGenerator(rescale=1./255)\n",
    "train_dir = '/notebooks/storage/kaggle-solutions/Kaggle-Solutions/data/plant-seedlings-classification/train'\n",
    "classes = ['Black-grass', 'Charlock', 'Cleavers', 'Common Chickweed',\n",
    "       'Common wheat', 'Fat Hen', 'Loose Silky-bent', 'Maize',\n",
    "       'Scentless Mayweed', 'Shepherds Purse',\n",
    "       'Small-flowered Cranesbill', 'Sugar beet']\n",
    "train_data_gen = image_generator.flow_from_directory(directory=train_dir,\n",
    "                                                     batch_size=BATCH_SIZE,\n",
    "                                                     shuffle=True,\n",
    "                                                     target_size=(IMG_HEIGHT, IMG_WIDTH),\n",
    "                                                     classes = classes)"
   ]
  },
  {
   "cell_type": "markdown",
   "metadata": {},
   "source": [
    "## Create Model"
   ]
  },
  {
   "cell_type": "markdown",
   "metadata": {},
   "source": [
    "Very basic model"
   ]
  },
  {
   "cell_type": "code",
   "execution_count": 5,
   "metadata": {},
   "outputs": [
    {
     "name": "stdout",
     "output_type": "stream",
     "text": [
      "Model: \"sequential\"\n",
      "_________________________________________________________________\n",
      "Layer (type)                 Output Shape              Param #   \n",
      "=================================================================\n",
      "conv2d (Conv2D)              (None, 222, 222, 32)      896       \n",
      "_________________________________________________________________\n",
      "max_pooling2d (MaxPooling2D) (None, 111, 111, 32)      0         \n",
      "_________________________________________________________________\n",
      "conv2d_1 (Conv2D)            (None, 109, 109, 64)      18496     \n",
      "_________________________________________________________________\n",
      "max_pooling2d_1 (MaxPooling2 (None, 54, 54, 64)        0         \n",
      "_________________________________________________________________\n",
      "conv2d_2 (Conv2D)            (None, 52, 52, 64)        36928     \n",
      "_________________________________________________________________\n",
      "flatten (Flatten)            (None, 173056)            0         \n",
      "_________________________________________________________________\n",
      "dense (Dense)                (None, 64)                11075648  \n",
      "_________________________________________________________________\n",
      "dense_1 (Dense)              (None, 12)                780       \n",
      "=================================================================\n",
      "Total params: 11,132,748\n",
      "Trainable params: 11,132,748\n",
      "Non-trainable params: 0\n",
      "_________________________________________________________________\n"
     ]
    }
   ],
   "source": [
    "model_v1 = keras.Sequential()\n",
    "model_v1.add(keras.layers.Conv2D(32, (3, 3), activation='relu', input_shape=(224, 224, 3)))\n",
    "model_v1.add(keras.layers.MaxPooling2D((2, 2)))\n",
    "model_v1.add(keras.layers.Conv2D(64, (3, 3), activation='relu'))\n",
    "model_v1.add(keras.layers.MaxPooling2D((2, 2)))\n",
    "model_v1.add(keras.layers.Conv2D(64, (3, 3), activation='relu'))\n",
    "model_v1.add(keras.layers.Flatten())\n",
    "model_v1.add(keras.layers.Dense(64, activation='relu'))\n",
    "model_v1.add(keras.layers.Dense(12, activation='softmax'))\n",
    "model_v1.summary()"
   ]
  },
  {
   "cell_type": "markdown",
   "metadata": {},
   "source": [
    "## Train Model"
   ]
  },
  {
   "cell_type": "code",
   "execution_count": 6,
   "metadata": {},
   "outputs": [],
   "source": [
    "model_v1.compile(optimizer='adam',\n",
    "              loss='categorical_crossentropy',\n",
    "              metrics=['accuracy'])"
   ]
  },
  {
   "cell_type": "code",
   "execution_count": 7,
   "metadata": {},
   "outputs": [
    {
     "name": "stdout",
     "output_type": "stream",
     "text": [
      "Train for 149 steps\n",
      "Epoch 1/7\n",
      "149/149 [==============================] - 74s 499ms/step - loss: 1.9537 - accuracy: 0.3436\n",
      "Epoch 2/7\n",
      "149/149 [==============================] - 70s 468ms/step - loss: 1.2506 - accuracy: 0.5718\n",
      "Epoch 3/7\n",
      "149/149 [==============================] - 71s 477ms/step - loss: 1.0057 - accuracy: 0.6659\n",
      "Epoch 4/7\n",
      "149/149 [==============================] - 69s 460ms/step - loss: 0.8134 - accuracy: 0.7333\n",
      "Epoch 5/7\n",
      "149/149 [==============================] - 69s 462ms/step - loss: 0.6213 - accuracy: 0.8019\n",
      "Epoch 6/7\n",
      "149/149 [==============================] - 69s 461ms/step - loss: 0.4433 - accuracy: 0.8562\n",
      "Epoch 7/7\n",
      "149/149 [==============================] - 69s 461ms/step - loss: 0.3339 - accuracy: 0.8941\n"
     ]
    },
    {
     "data": {
      "text/plain": [
       "<tensorflow.python.keras.callbacks.History at 0x7f8c3a785278>"
      ]
     },
     "execution_count": 7,
     "metadata": {},
     "output_type": "execute_result"
    }
   ],
   "source": [
    "model_v1.fit(train_data_gen, epochs=7, steps_per_epoch=None)"
   ]
  },
  {
   "cell_type": "markdown",
   "metadata": {},
   "source": [
    "## Evaluate on Test Data"
   ]
  },
  {
   "cell_type": "code",
   "execution_count": 31,
   "metadata": {},
   "outputs": [
    {
     "name": "stdout",
     "output_type": "stream",
     "text": [
      "Found 794 images belonging to 1 classes.\n"
     ]
    }
   ],
   "source": [
    "test_dir = '/notebooks/storage/kaggle-solutions/Kaggle-Solutions/data/plant-seedlings-classification/'\n",
    "image_generator = tf.keras.preprocessing.image.ImageDataGenerator(rescale=1./255)\n",
    "test_data_gen = image_generator.flow_from_directory(directory=test_dir,\n",
    "                                                     batch_size=BATCH_SIZE,\n",
    "                                                     shuffle=True,\n",
    "                                                     target_size=(IMG_HEIGHT, IMG_WIDTH),\n",
    "                                                     classes = ['test'])"
   ]
  },
  {
   "cell_type": "code",
   "execution_count": 36,
   "metadata": {},
   "outputs": [
    {
     "data": {
      "text/plain": [
       "794"
      ]
     },
     "execution_count": 36,
     "metadata": {},
     "output_type": "execute_result"
    }
   ],
   "source": [
    "pred = model_v1.predict(\n",
    "    test_data_gen, batch_size=None, verbose=0, steps=None, callbacks=None, max_queue_size=10,\n",
    "    workers=1, use_multiprocessing=False,\n",
    ")\n",
    "len(pred)"
   ]
  },
  {
   "cell_type": "code",
   "execution_count": 37,
   "metadata": {},
   "outputs": [
    {
     "data": {
      "text/plain": [
       "794"
      ]
     },
     "execution_count": 37,
     "metadata": {},
     "output_type": "execute_result"
    }
   ],
   "source": [
    "y = np.argmax(pred, axis=1)\n",
    "len(y)"
   ]
  },
  {
   "cell_type": "code",
   "execution_count": 38,
   "metadata": {},
   "outputs": [
    {
     "data": {
      "text/plain": [
       "794"
      ]
     },
     "execution_count": 38,
     "metadata": {},
     "output_type": "execute_result"
    }
   ],
   "source": [
    "predicted_classes = [classes[i] for i in y]\n",
    "files = [path[5:] for path in test_data_gen.filenames]\n",
    "predicted_classes\n",
    "len(files)\n",
    "len(predicted_classes)"
   ]
  },
  {
   "cell_type": "code",
   "execution_count": 39,
   "metadata": {},
   "outputs": [],
   "source": [
    "subm = np.stack([files,predicted_classes], axis=1)\n",
    "np.savetxt('submission.csv', subm, fmt='%s,%s', header='file,species', comments='')"
   ]
  }
 ],
 "metadata": {
  "kernelspec": {
   "display_name": "Python 3",
   "language": "python",
   "name": "python3"
  },
  "language_info": {
   "codemirror_mode": {
    "name": "ipython",
    "version": 3
   },
   "file_extension": ".py",
   "mimetype": "text/x-python",
   "name": "python",
   "nbconvert_exporter": "python",
   "pygments_lexer": "ipython3",
   "version": "3.6.8"
  }
 },
 "nbformat": 4,
 "nbformat_minor": 4
}
